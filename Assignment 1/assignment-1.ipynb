{
 "cells": [
  {
   "cell_type": "markdown",
   "id": "f7ca8820-b7bd-42b4-9bed-0300a059db92",
   "metadata": {},
   "source": [
    "# Assignment 1\n",
    "## Authors go here maybe\n",
    "### 1. Creating the scatter plot\n",
    "\n",
    "The following cell will import the csv files and convert into dataframes, filtering the most recent entry (2019)"
   ]
  },
  {
   "cell_type": "code",
   "execution_count": 33,
   "id": "79f3aa38-5570-4833-a556-ea0eef531f73",
   "metadata": {},
   "outputs": [],
   "source": [
    "import numpy as np\n",
    "import matplotlib.pyplot as plt\n",
    "import pandas as pd\n",
    "\n",
    "\n",
    "#Load dataframes\n",
    "dfGDP = pd.read_csv('gdp-per-capita-penn-world-table.csv')\n",
    "dfLE = pd.read_csv('life-expectancy.csv')\n",
    "\n",
    "#Filter most recent LE and GDP per capita data (2019)\n",
    "\n",
    "GDP = dfGDP[dfGDP.Year == 2019]\n",
    "\n",
    "\n",
    "LE  = dfLE[dfLE.Year == 2019]\n"
   ]
  },
  {
   "cell_type": "markdown",
   "id": "b607d740-e0bb-4e9c-b48b-aa58e0c63104",
   "metadata": {},
   "source": [
    "Next, merge the two dataframes by the default inner merge to ensure corresponding countries get listed with their respective GDP and LE. This will removes zones (Europe, World, etc) and keeps countries only\n",
    "\n",
    "**Caution**: This will also scrub the countries which do not have a listed GDP for the year 2019. For the sake of the assignment, we will omit these countries from the coming discussions/analysis"
   ]
  },
  {
   "cell_type": "code",
   "execution_count": 34,
   "id": "f63195f9-73b8-4741-a10f-2d242bf6aee7",
   "metadata": {},
   "outputs": [],
   "source": [
    "combDF = GDP.merge(LE) #inner merge by default, ensures scrubbing of zones and keeps countries\n",
    "\n",
    "combDF.columns = ['Country', 'Code', 'Year', 'GDP', 'LE'] #rename columns for easier handling\n"
   ]
  },
  {
   "cell_type": "markdown",
   "id": "c8bb2244-2f51-4e35-ad19-29ad02e947bb",
   "metadata": {},
   "source": [
    "Create the scatter plot (will need to make this better and more readable)"
   ]
  },
  {
   "cell_type": "code",
   "execution_count": 35,
   "id": "78eafca5-2e36-4a3b-81db-dedc5f832dd0",
   "metadata": {},
   "outputs": [
    {
     "data": {
      "image/png": "[encoded data removed]",
      "text/plain": [
       "<Figure size 640x480 with 1 Axes>"
      ]
     },
     "metadata": {},
     "output_type": "display_data"
    }
   ],
   "source": [
    "combDF.plot(kind='scatter', \n",
    "        x='GDP', \n",
    "        y='LE', \n",
    "        color='blue') \n",
    "  \n",
    "# set the title \n",
    "plt.title('Good title here') \n",
    "  \n",
    "# show the plot \n",
    "plt.show() "
   ]
  },
  {
   "cell_type": "markdown",
   "id": "56927355-5c6a-4f34-b509-bd5d3a486d08",
   "metadata": {},
   "source": [
    "### 2. Answers to questions in the assignment\n",
    "\n",
    "#### Question 1: Which countries have a life expectancy higher than one standard deviation above the mean?"
   ]
  },
  {
   "cell_type": "code",
   "execution_count": 36,
   "id": "828bb590-e141-4378-99b5-1a544d3bc4b9",
   "metadata": {},
   "outputs": [
    {
     "data": {
      "text/plain": [
       "7           Australia\n",
       "8             Austria\n",
       "15            Belgium\n",
       "18            Bermuda\n",
       "31             Canada\n",
       "44             Cyprus\n",
       "47            Denmark\n",
       "59            Finland\n",
       "60             France\n",
       "64            Germany\n",
       "66             Greece\n",
       "74          Hong Kong\n",
       "76            Iceland\n",
       "81            Ireland\n",
       "82             Israel\n",
       "83              Italy\n",
       "85              Japan\n",
       "97         Luxembourg\n",
       "98              Macao\n",
       "104             Malta\n",
       "117       Netherlands\n",
       "118       New Zealand\n",
       "123            Norway\n",
       "132          Portugal\n",
       "133             Qatar\n",
       "146         Singapore\n",
       "149          Slovenia\n",
       "151       South Korea\n",
       "152             Spain\n",
       "156            Sweden\n",
       "157       Switzerland\n",
       "159            Taiwan\n",
       "171    United Kingdom\n",
       "Name: Country, dtype: object"
      ]
     },
     "execution_count": 36,
     "metadata": {},
     "output_type": "execute_result"
    }
   ],
   "source": [
    "meanDF = combDF[\"LE\"].mean()\n",
    "std = combDF[\"LE\"].std()\n",
    "\n",
    "countriesHigherThanSTD = combDF[combDF.LE > meanDF + std]\n",
    "countriesHigherThanSTD[\"Country\"]"
   ]
  },
  {
   "cell_type": "markdown",
   "id": "33543d09-6497-42a5-abf6-ce4623eab474",
   "metadata": {},
   "source": [
    "#### Question 2: Which countries have high life expectancy but have low GDP?\n",
    "Definition for high  life expectancy taken by the previous results (one standard deviation above the mean) Can we assume normal distribution (no)?\n",
    "\n",
    "Import data from \"Data source: Feenstra et al. (2015), Penn World Table (2021)\" Same as previous but for total GDP"
   ]
  },
  {
   "cell_type": "code",
   "execution_count": 37,
   "id": "d3c8e77b-0f49-4e2b-8672-71ced64caab2",
   "metadata": {},
   "outputs": [
    {
     "data": {
      "text/html": [
       "<div>\n",
       "<style scoped>\n",
       "    .dataframe tbody tr th:only-of-type {\n",
       "        vertical-align: middle;\n",
       "    }\n",
       "\n",
       "    .dataframe tbody tr th {\n",
       "        vertical-align: top;\n",
       "    }\n",
       "\n",
       "    .dataframe thead th {\n",
       "        text-align: right;\n",
       "    }\n",
       "</style>\n",
       "<table border=\"1\" class=\"dataframe\">\n",
       "  <thead>\n",
       "    <tr style=\"text-align: right;\">\n",
       "      <th></th>\n",
       "      <th>Entity</th>\n",
       "      <th>Code</th>\n",
       "      <th>Year</th>\n",
       "      <th>GDP (output, multiple price benchmarks)</th>\n",
       "    </tr>\n",
       "  </thead>\n",
       "  <tbody>\n",
       "    <tr>\n",
       "      <th>0</th>\n",
       "      <td>Albania</td>\n",
       "      <td>ALB</td>\n",
       "      <td>1971</td>\n",
       "      <td>6958496300</td>\n",
       "    </tr>\n",
       "    <tr>\n",
       "      <th>1</th>\n",
       "      <td>Albania</td>\n",
       "      <td>ALB</td>\n",
       "      <td>1972</td>\n",
       "      <td>7246038000</td>\n",
       "    </tr>\n",
       "    <tr>\n",
       "      <th>2</th>\n",
       "      <td>Albania</td>\n",
       "      <td>ALB</td>\n",
       "      <td>1973</td>\n",
       "      <td>7536605700</td>\n",
       "    </tr>\n",
       "    <tr>\n",
       "      <th>3</th>\n",
       "      <td>Albania</td>\n",
       "      <td>ALB</td>\n",
       "      <td>1974</td>\n",
       "      <td>7855124000</td>\n",
       "    </tr>\n",
       "    <tr>\n",
       "      <th>4</th>\n",
       "      <td>Albania</td>\n",
       "      <td>ALB</td>\n",
       "      <td>1975</td>\n",
       "      <td>8164371000</td>\n",
       "    </tr>\n",
       "    <tr>\n",
       "      <th>...</th>\n",
       "      <td>...</td>\n",
       "      <td>...</td>\n",
       "      <td>...</td>\n",
       "      <td>...</td>\n",
       "    </tr>\n",
       "    <tr>\n",
       "      <th>10103</th>\n",
       "      <td>Zimbabwe</td>\n",
       "      <td>ZWE</td>\n",
       "      <td>2015</td>\n",
       "      <td>39798645000</td>\n",
       "    </tr>\n",
       "    <tr>\n",
       "      <th>10104</th>\n",
       "      <td>Zimbabwe</td>\n",
       "      <td>ZWE</td>\n",
       "      <td>2016</td>\n",
       "      <td>40963190000</td>\n",
       "    </tr>\n",
       "    <tr>\n",
       "      <th>10105</th>\n",
       "      <td>Zimbabwe</td>\n",
       "      <td>ZWE</td>\n",
       "      <td>2017</td>\n",
       "      <td>44316740000</td>\n",
       "    </tr>\n",
       "    <tr>\n",
       "      <th>10106</th>\n",
       "      <td>Zimbabwe</td>\n",
       "      <td>ZWE</td>\n",
       "      <td>2018</td>\n",
       "      <td>43420897000</td>\n",
       "    </tr>\n",
       "    <tr>\n",
       "      <th>10107</th>\n",
       "      <td>Zimbabwe</td>\n",
       "      <td>ZWE</td>\n",
       "      <td>2019</td>\n",
       "      <td>40826570000</td>\n",
       "    </tr>\n",
       "  </tbody>\n",
       "</table>\n",
       "<p>10108 rows × 4 columns</p>\n",
       "</div>"
      ],
      "text/plain": [
       "         Entity Code  Year  GDP (output, multiple price benchmarks)\n",
       "0       Albania  ALB  1971                               6958496300\n",
       "1       Albania  ALB  1972                               7246038000\n",
       "2       Albania  ALB  1973                               7536605700\n",
       "3       Albania  ALB  1974                               7855124000\n",
       "4       Albania  ALB  1975                               8164371000\n",
       "...         ...  ...   ...                                      ...\n",
       "10103  Zimbabwe  ZWE  2015                              39798645000\n",
       "10104  Zimbabwe  ZWE  2016                              40963190000\n",
       "10105  Zimbabwe  ZWE  2017                              44316740000\n",
       "10106  Zimbabwe  ZWE  2018                              43420897000\n",
       "10107  Zimbabwe  ZWE  2019                              40826570000\n",
       "\n",
       "[10108 rows x 4 columns]"
      ]
     },
     "execution_count": 37,
     "metadata": {},
     "output_type": "execute_result"
    }
   ],
   "source": [
    "totalGDP = pd.read_csv(\"national-gdp-penn-world-table.csv\")\n",
    "totalGDP"
   ]
  },
  {
   "cell_type": "code",
   "execution_count": null,
   "id": "9d148024-7419-4ec0-a11a-98eda19a87a8",
   "metadata": {},
   "outputs": [],
   "source": []
  }
 ],
 "metadata": {
  "kernelspec": {
   "display_name": "Python 3 (ipykernel)",
   "language": "python",
   "name": "python3"
  },
  "language_info": {
   "codemirror_mode": {
    "name": "ipython",
    "version": 3
   },
   "file_extension": ".py",
   "mimetype": "text/x-python",
   "name": "python",
   "nbconvert_exporter": "python",
   "pygments_lexer": "ipython3",
   "version": "3.8.13"
  }
 },
 "nbformat": 4,
 "nbformat_minor": 5
}
