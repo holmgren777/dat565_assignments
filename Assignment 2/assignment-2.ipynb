{
 "cells": [
  {
   "cell_type": "markdown",
   "metadata": {},
   "source": [
    "# Assignment 2\n",
    "## Problem 1 - Linear regression\n",
    "### Create a linear regression model"
   ]
  },
  {
   "cell_type": "code",
   "execution_count": 84,
   "metadata": {},
   "outputs": [
    {
     "data": {
      "image/png": "[encoded data removed]",
      "text/plain": [
       "<Figure size 432x288 with 1 Axes>"
      ]
     },
     "metadata": {
      "needs_background": "light"
     },
     "output_type": "display_data"
    }
   ],
   "source": [
    "import numpy as np #load all libraries\n",
    "import matplotlib.pyplot as plt\n",
    "from sklearn.linear_model import LinearRegression\n",
    "import pandas as pd\n",
    "import sys\n",
    "import seaborn\n",
    "\n",
    "\n",
    "df = pd.read_csv('hemnet.csv')\n",
    "\n",
    "df = df[[\"Living_area\",\"Selling_price\"]] # extract relevant columns\n",
    "\n",
    "#cleaaning of outliers goes here maybe\n",
    "\n",
    "x = np.array(df['Living_area'])\n",
    "y = np.array(df['Selling_price'])\n",
    "\n",
    "x = np.delete(x, 40) #manual deletion\n",
    "y = np.delete(y, 40)\n",
    "\n",
    "x = np.delete(x, 44)\n",
    "y = np.delete(y, 44)\n",
    "\n",
    "model = LinearRegression()\n",
    "model.fit(x[:,np.newaxis],y) #only because of how LinearRegression handles x-inputs?\n",
    "\n",
    "xfit = np.linspace(np.min(x),np.max(x), len(x))\n",
    "yfit = model.predict(xfit[:, np.newaxis])\n",
    "\n",
    "\n",
    "\n",
    "ax = plt.scatter(x,y)\n",
    "plt.plot(xfit,yfit)\n",
    "plt.show()\n",
    "#model without cleaning, clean up or just use in discussion? fix axes and legend"
   ]
  },
  {
   "cell_type": "code",
   "execution_count": 83,
   "metadata": {},
   "outputs": [
    {
     "name": "stdout",
     "output_type": "stream",
     "text": [
      "44\n"
     ]
    }
   ],
   "source": [
    "residuals = abs(y-yfit)\n",
    "index = np.argmax(residuals)\n",
    "\n",
    "print(index)"
   ]
  },
  {
   "cell_type": "markdown",
   "metadata": {},
   "source": [
    "### What are the values for the intercept and slope?"
   ]
  },
  {
   "cell_type": "code",
   "execution_count": 85,
   "metadata": {},
   "outputs": [
    {
     "name": "stdout",
     "output_type": "stream",
     "text": [
      "23597.794749444976 1809821.2159409611\n"
     ]
    }
   ],
   "source": [
    "k = model.coef_ \n",
    "k = k[0]\n",
    "m = model.intercept_\n",
    "\n",
    "print(k,m)"
   ]
  },
  {
   "cell_type": "markdown",
   "metadata": {},
   "source": [
    "### Prediction of house prices"
   ]
  },
  {
   "cell_type": "code",
   "execution_count": 79,
   "metadata": {},
   "outputs": [
    {
     "name": "stdout",
     "output_type": "stream",
     "text": [
      "[4162447.781415829, 5244002.860261187, 6325557.9391065445]\n"
     ]
    }
   ],
   "source": [
    "values = [] #house prices for 100, 150 and 200 m2\n",
    "\n",
    "for i in range(0,3):\n",
    "    value = (100+50*i)*k+m\n",
    "    values.append(value)\n",
    "    \n",
    "print(values)"
   ]
  },
  {
   "cell_type": "markdown",
   "metadata": {},
   "source": [
    "### Residual plot"
   ]
  },
  {
   "cell_type": "code",
   "execution_count": 80,
   "metadata": {},
   "outputs": [
    {
     "name": "stdout",
     "output_type": "stream",
     "text": [
      "(4825000, 5438682.774453351)\n"
     ]
    },
    {
     "data": {
      "image/png": "[encoded data removed]",
      "text/plain": [
       "<Figure size 432x288 with 1 Axes>"
      ]
     },
     "metadata": {
      "needs_background": "light"
     },
     "output_type": "display_data"
    }
   ],
   "source": [
    "\n",
    "for i in range(len(x)):\n",
    "    yPredicted = model.predict(x[:, np.newaxis]) #don't really know what I did here, ask at comp lab\n",
    "    lineX=(x[i],x[i])\n",
    "    lineY=(y[i],yPredicted[i])\n",
    "    plt.plot(lineX,lineY)\n",
    "\n",
    "print(lineY)\n",
    "plt.scatter(x,y)\n",
    "plt.plot(xfit,yfit)\n",
    "plt.show()"
   ]
  },
  {
   "cell_type": "markdown",
   "metadata": {},
   "source": [
    "## Problem 2 - Logistic regression"
   ]
  },
  {
   "cell_type": "markdown",
   "metadata": {},
   "source": [
    "### Confusion matrix evaluation"
   ]
  },
  {
   "cell_type": "code",
   "execution_count": 81,
   "metadata": {},
   "outputs": [
    {
     "data": {
      "text/plain": [
       "array([[13,  0,  0],\n",
       "       [ 0, 15,  1],\n",
       "       [ 0,  0,  9]], dtype=int64)"
      ]
     },
     "execution_count": 81,
     "metadata": {},
     "output_type": "execute_result"
    }
   ],
   "source": [
    "# code goes here...\n",
    "\n",
    "\n",
    "from sklearn.metrics import confusion_matrix\n",
    "from sklearn import preprocessing\n",
    "from sklearn.datasets import load_iris\n",
    "from sklearn.model_selection import train_test_split\n",
    "from sklearn.linear_model import LogisticRegression\n",
    "\n",
    "dfdata, dftarget = load_iris(as_frame=True, return_X_y=True) #import as two dataframes, ask TA about handling of the regular data as_frame=False etc\n",
    "\n",
    "dfdata = dfdata.set_axis(['sepal_length', 'sepal_width', 'petal_length', 'petal_width'], axis=1) #rename columns\n",
    "\n",
    "\n",
    "X = dfdata.iloc[:,0:4]\n",
    "Y = dftarget\n",
    "\n",
    "X_train,X_test,Y_train,Y_test=train_test_split(X,Y,test_size=0.25,random_state=0)\n",
    "\n",
    "log = LogisticRegression(max_iter=10000)\n",
    "log.fit(X_train,Y_train) #making the logistic function \n",
    "\n",
    "Y_pred=log.predict(X_test)\n",
    "\n",
    "confusion_matrix(Y_test, Y_pred) #it's something\n"
   ]
  },
  {
   "cell_type": "markdown",
   "metadata": {},
   "source": [
    "### K-nearest neighbor approximation"
   ]
  },
  {
   "cell_type": "code",
   "execution_count": 82,
   "metadata": {},
   "outputs": [
    {
     "data": {
      "text/plain": [
       "array([[13,  0,  0],\n",
       "       [ 0, 15,  1],\n",
       "       [ 0,  0,  9]], dtype=int64)"
      ]
     },
     "execution_count": 82,
     "metadata": {},
     "output_type": "execute_result"
    }
   ],
   "source": [
    "from sklearn.metrics import confusion_matrix\n",
    "from sklearn import preprocessing\n",
    "from sklearn.datasets import load_iris\n",
    "from sklearn.model_selection import train_test_split\n",
    "from sklearn.linear_model import LogisticRegression\n",
    "\n",
    "iris = load_iris() #import as two dataframes, ask TA about handling of the regular data as_frame=False etc\n",
    "\n",
    "X = iris.data\n",
    "Y = iris.target\n",
    "\n",
    "X_train,X_test,Y_train,Y_test=train_test_split(X,Y,test_size=0.25,random_state=0)\n",
    "\n",
    "\n",
    "log = LogisticRegression(max_iter=10000)\n",
    "log.fit(X_train,Y_train) #making the logistic function \n",
    "\n",
    "Y_pred=log.predict(X_test)\n",
    "\n",
    "confusion_matrix(Y_test, Y_pred) #it's something"
   ]
  },
  {
   "cell_type": "code",
   "execution_count": null,
   "metadata": {},
   "outputs": [],
   "source": []
  }
 ],
 "metadata": {
  "kernelspec": {
   "display_name": "Python 3",
   "language": "python",
   "name": "python3"
  },
  "language_info": {
   "codemirror_mode": {
    "name": "ipython",
    "version": 3
   },
   "file_extension": ".py",
   "mimetype": "text/x-python",
   "name": "python",
   "nbconvert_exporter": "python",
   "pygments_lexer": "ipython3",
   "version": "3.8.5"
  }
 },
 "nbformat": 4,
 "nbformat_minor": 4
}
