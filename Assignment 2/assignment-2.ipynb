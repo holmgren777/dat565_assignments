{
 "cells": [
  {
   "cell_type": "markdown",
   "metadata": {},
   "source": [
    "# Assignment 2\n",
    "## Problem 1"
   ]
  },
  {
   "cell_type": "code",
   "execution_count": 81,
   "metadata": {},
   "outputs": [
    {
     "data": {
      "image/png": "[encoded data removed]",
      "text/plain": [
       "<Figure size 432x288 with 1 Axes>"
      ]
     },
     "metadata": {
      "needs_background": "light"
     },
     "output_type": "display_data"
    }
   ],
   "source": [
    "import numpy as np #load all libraries\n",
    "import matplotlib.pyplot as plt\n",
    "from sklearn.linear_model import LinearRegression\n",
    "import pandas as pd\n",
    "import sys\n",
    "import seaborn\n",
    "\n",
    "\n",
    "df = pd.read_csv('hemnet.csv')\n",
    "\n",
    "df = df[[\"Living_area\",\"Selling_price\"]] # extract relevant columns\n",
    "\n",
    "#cleaaning of outliers goes here\n",
    "\n",
    "x = np.array(df['Living_area'])\n",
    "y = np.array(df['Selling_price'])\n",
    "\n",
    "model = LinearRegression()\n",
    "model.fit(x[:,np.newaxis],y)\n",
    "\n",
    "k = model.coef_ \n",
    "k = k[0]\n",
    "m = model.intercept_\n",
    "\n",
    "xfit = np.linspace(np.min(x),np.max(x))\n",
    "yfit = model.predict(xfit[:, np.newaxis])\n",
    "\n",
    "plt.scatter(x,y)\n",
    "plt.plot(xfit,yfit)\n",
    "plt.show()\n",
    "#model without cleaning"
   ]
  },
  {
   "cell_type": "code",
   "execution_count": 79,
   "metadata": {},
   "outputs": [
    {
     "name": "stdout",
     "output_type": "stream",
     "text": [
      "[4157617.0980890263, 5126124.025455605, 6094630.952822184]\n"
     ]
    }
   ],
   "source": [
    "values = [] #house prices for 100, 150 and 200 m2\n",
    "\n",
    "for i in range(0,3):\n",
    "    value = (100+50*i)*k+m\n",
    "    values.append(value)\n",
    "    \n",
    "print(values)"
   ]
  },
  {
   "cell_type": "code",
   "execution_count": null,
   "metadata": {},
   "outputs": [],
   "source": []
  },
  {
   "cell_type": "code",
   "execution_count": null,
   "metadata": {},
   "outputs": [],
   "source": []
  }
 ],
 "metadata": {
  "kernelspec": {
   "display_name": "Python 3",
   "language": "python",
   "name": "python3"
  },
  "language_info": {
   "codemirror_mode": {
    "name": "ipython",
    "version": 3
   },
   "file_extension": ".py",
   "mimetype": "text/x-python",
   "name": "python",
   "nbconvert_exporter": "python",
   "pygments_lexer": "ipython3",
   "version": "3.8.5"
  }
 },
 "nbformat": 4,
 "nbformat_minor": 4
}
