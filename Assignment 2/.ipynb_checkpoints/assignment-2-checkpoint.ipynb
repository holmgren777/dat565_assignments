{
 "cells": [
  {
   "cell_type": "markdown",
   "metadata": {},
   "source": [
    "# Assignment 2\n",
    "## Problem 1 - Linear regression\n",
    "### Create a linear regression model"
   ]
  },
  {
   "cell_type": "code",
   "execution_count": 199,
   "metadata": {},
   "outputs": [
    {
     "data": {
      "image/png": "[encoded data removed]",
      "text/plain": [
       "<Figure size 432x288 with 1 Axes>"
      ]
     },
     "metadata": {
      "needs_background": "light"
     },
     "output_type": "display_data"
    }
   ],
   "source": [
    "import numpy as np #load all libraries\n",
    "import matplotlib.pyplot as plt\n",
    "from sklearn.linear_model import LinearRegression\n",
    "import pandas as pd\n",
    "import sys\n",
    "import seaborn\n",
    "\n",
    "\n",
    "df = pd.read_csv('hemnet.csv')\n",
    "\n",
    "df = df[[\"Living_area\",\"Selling_price\"]] # extract relevant columns\n",
    "\n",
    "#cleaaning of outliers goes here maybe\n",
    "\n",
    "x = np.array(df['Living_area'])\n",
    "y = np.array(df['Selling_price'])\n",
    "\n",
    "\n",
    "model = LinearRegression()\n",
    "model.fit(x[:,np.newaxis],y) #only because of how LinearRegression handles x-inputs?\n",
    "\n",
    "xfit = np.linspace(np.min(x),np.max(x), len(x))\n",
    "yfit = model.predict(xfit[:, np.newaxis])\n",
    "\n",
    "ax = plt.scatter(x,y)\n",
    "plt.plot(xfit,yfit)\n",
    "plt.show()\n",
    "#model without cleaning, clean up or just use in discussion? fix axes and legend"
   ]
  },
  {
   "cell_type": "markdown",
   "metadata": {},
   "source": [
    "### What are the values for the intercept and slope?"
   ]
  },
  {
   "cell_type": "code",
   "execution_count": 85,
   "metadata": {},
   "outputs": [
    {
     "name": "stdout",
     "output_type": "stream",
     "text": [
      "19370.138547331582 2220603.2433558684\n"
     ]
    }
   ],
   "source": [
    "k = model.coef_ \n",
    "k = k[0]\n",
    "m = model.intercept_\n",
    "\n",
    "print(k,m)"
   ]
  },
  {
   "cell_type": "markdown",
   "metadata": {},
   "source": [
    "### Prediction of house prices"
   ]
  },
  {
   "cell_type": "code",
   "execution_count": 95,
   "metadata": {},
   "outputs": [
    {
     "name": "stdout",
     "output_type": "stream",
     "text": [
      "[4157617.0980890263, 5126124.025455605, 6094630.952822184]\n",
      "56\n"
     ]
    }
   ],
   "source": [
    "values = [] #house prices for 100, 150 and 200 m2\n",
    "\n",
    "for i in range(0,3):\n",
    "    value = (100+50*i)*k+m\n",
    "    values.append(value)\n",
    "    \n",
    "print(values)"
   ]
  },
  {
   "cell_type": "markdown",
   "metadata": {},
   "source": [
    "### Residual plot"
   ]
  },
  {
   "cell_type": "code",
   "execution_count": 113,
   "metadata": {},
   "outputs": [
    {
     "name": "stdout",
     "output_type": "stream",
     "text": [
      "(4825000, 5300455.27238159)\n"
     ]
    },
    {
     "data": {
      "image/png": "[encoded data removed]",
      "text/plain": [
       "<Figure size 432x288 with 1 Axes>"
      ]
     },
     "metadata": {
      "needs_background": "light"
     },
     "output_type": "display_data"
    }
   ],
   "source": [
    "#Code goes here for the resplot\n",
    "\n",
    "for i in range(len(x)):\n",
    "    yPredicted = model.predict(x[:, np.newaxis]) #don't really know what I did here, ask at comp lab\n",
    "    lineX=(x[i],x[i])\n",
    "    lineY=(y[i],yPredicted[i])\n",
    "    plt.plot(lineX,lineY)\n",
    "\n",
    "print(lineY)\n",
    "plt.scatter(x,y)\n",
    "plt.plot(xfit,yfit)\n",
    "plt.show()"
   ]
  },
  {
   "cell_type": "markdown",
   "metadata": {},
   "source": [
    "## Problem 2 - Logistic regression"
   ]
  },
  {
   "cell_type": "markdown",
   "metadata": {},
   "source": [
    "### Confusion matrix evaluation"
   ]
  },
  {
   "cell_type": "code",
   "execution_count": 197,
   "metadata": {},
   "outputs": [
    {
     "name": "stderr",
     "output_type": "stream",
     "text": [
      "C:\\Users\\Henning\\anaconda3\\lib\\site-packages\\sklearn\\base.py:458: UserWarning: X has feature names, but LogisticRegression was fitted without feature names\n",
      "  warnings.warn(\n"
     ]
    },
    {
     "data": {
      "text/plain": [
       "0      0\n",
       "1      0\n",
       "2      0\n",
       "3      0\n",
       "4      0\n",
       "      ..\n",
       "145    2\n",
       "146    2\n",
       "147    2\n",
       "148    2\n",
       "149    2\n",
       "Name: target, Length: 150, dtype: int32"
      ]
     },
     "execution_count": 197,
     "metadata": {},
     "output_type": "execute_result"
    }
   ],
   "source": [
    "# code goes here...\n",
    "\n",
    "\n",
    "from sklearn.metrics import confusion_matrix\n",
    "from sklearn import preprocessing\n",
    "from sklearn.datasets import load_iris\n",
    "from sklearn.model_selection import train_test_split\n",
    "from sklearn.linear_model import LogisticRegression\n",
    "\n",
    "dfdata, dftarget = load_iris(as_frame=True, return_X_y=True) #import as two dataframes, ask TA about handling of the regular data as_frame=False etc\n",
    "\n",
    "dfdata = dfdata.set_axis(['sepal_length', 'sepal_width', 'petal_length', 'petal_width'], axis=1) #rename columns\n",
    "\n",
    "\n",
    "X = dfdata.iloc[:,0:4]\n",
    "Y = dftarget\n",
    "\n",
    "X_train,X_test,Y_train,Y_test=train_test_split(X,Y,test_size=0.25,random_state=0)\n",
    "\n",
    "scaler = preprocessing.StandardScaler().fit(X_train) #dunno what I'm doing here really\n",
    "\n",
    "X_scaled = scaler.transform(X_train) #not here either\n",
    "\n",
    "log = LogisticRegression()\n",
    "log.fit(X_scaled,Y_train) #making the logistic function \n",
    "\n",
    "Y_pred=log.predict(X_test)\n",
    "\n",
    "confusion_matrix(Y_test, Y_pred) #it's something\n",
    "\n"
   ]
  },
  {
   "cell_type": "markdown",
   "metadata": {},
   "source": [
    "### K-nearest neighbor approximation"
   ]
  },
  {
   "cell_type": "code",
   "execution_count": 208,
   "metadata": {},
   "outputs": [
    {
     "name": "stdout",
     "output_type": "stream",
     "text": [
      "[5.4 3.9 1.7 0.4]\n"
     ]
    },
    {
     "name": "stderr",
     "output_type": "stream",
     "text": [
      "C:\\Users\\Henning\\anaconda3\\lib\\site-packages\\sklearn\\base.py:458: UserWarning: X has feature names, but LogisticRegression was fitted without feature names\n",
      "  warnings.warn(\n"
     ]
    },
    {
     "data": {
      "text/plain": [
       "array([[ 0,  9,  4],\n",
       "       [ 0,  0, 16],\n",
       "       [ 0,  0,  9]], dtype=int64)"
      ]
     },
     "execution_count": 208,
     "metadata": {},
     "output_type": "execute_result"
    }
   ],
   "source": [
    "from sklearn.metrics import confusion_matrix\n",
    "from sklearn import preprocessing\n",
    "from sklearn.datasets import load_iris\n",
    "from sklearn.model_selection import train_test_split\n",
    "from sklearn.linear_model import LogisticRegression\n",
    "\n",
    "iris = load_iris() #import as two dataframes, ask TA about handling of the regular data as_frame=False etc\n",
    "\n",
    "\n",
    "X_train,X_test,Y_train,Y_test=train_test_split(X,Y,test_size=0.25,random_state=0)\n",
    "\n",
    "scaler = preprocessing.StandardScaler().fit(X_train) #dunno what I'm doing here really\n",
    "\n",
    "X_scaled = scaler.transform(X_train) #not here either\n",
    "\n",
    "log = LogisticRegression()\n",
    "log.fit(X_scaled,Y_train) #making the logistic function \n",
    "\n",
    "Y_pred=log.predict(X_test)\n",
    "\n",
    "confusion_matrix(Y_test, Y_pred) #it's something"
   ]
  },
  {
   "cell_type": "code",
   "execution_count": null,
   "metadata": {},
   "outputs": [],
   "source": []
  }
 ],
 "metadata": {
  "kernelspec": {
   "display_name": "Python 3",
   "language": "python",
   "name": "python3"
  },
  "language_info": {
   "codemirror_mode": {
    "name": "ipython",
    "version": 3
   },
   "file_extension": ".py",
   "mimetype": "text/x-python",
   "name": "python",
   "nbconvert_exporter": "python",
   "pygments_lexer": "ipython3",
   "version": "3.8.5"
  }
 },
 "nbformat": 4,
 "nbformat_minor": 4
}
